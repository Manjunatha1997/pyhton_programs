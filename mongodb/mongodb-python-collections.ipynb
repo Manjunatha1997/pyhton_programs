{
 "cells": [
  {
   "cell_type": "markdown",
   "id": "d49f96cb",
   "metadata": {},
   "source": [
    "### Importing requirements"
   ]
  },
  {
   "cell_type": "code",
   "execution_count": 2,
   "id": "318dad5a",
   "metadata": {},
   "outputs": [],
   "source": [
    "import pymongo"
   ]
  },
  {
   "cell_type": "markdown",
   "id": "b81af623",
   "metadata": {},
   "source": [
    "### Connecting to local mongodb"
   ]
  },
  {
   "cell_type": "code",
   "execution_count": 3,
   "id": "42096c7b",
   "metadata": {},
   "outputs": [],
   "source": [
    "client = pymongo.MongoClient('mongodb://127.0.0.1:27017')"
   ]
  },
  {
   "cell_type": "markdown",
   "id": "21e0b3be",
   "metadata": {},
   "source": [
    "### Creating database"
   ]
  },
  {
   "cell_type": "code",
   "execution_count": 4,
   "id": "f70704a1",
   "metadata": {},
   "outputs": [
    {
     "data": {
      "text/plain": [
       "Collection(Database(MongoClient(host=['127.0.0.1:27017'], document_class=dict, tz_aware=False, connect=True), 'BHATTAM'), 'inspection')"
      ]
     },
     "execution_count": 4,
     "metadata": {},
     "output_type": "execute_result"
    }
   ],
   "source": [
    "db = client['BHATTAM']  \n",
    "db\n",
    "db['inspection']"
   ]
  },
  {
   "cell_type": "code",
   "execution_count": 5,
   "id": "0f116385",
   "metadata": {},
   "outputs": [
    {
     "data": {
      "text/plain": [
       "[{'_id': ObjectId('62c554cce045ad6e37474260'),\n",
       "  'part_name': 'M15',\n",
       "  'start_time': '2022-07-06 09:24:28',\n",
       "  'end_time': '2022-07-06 09:27:29',\n",
       "  'operator_id': None,\n",
       "  'produced_on': '2022-07-06 09:24:28',\n",
       "  'status': 'completed'},\n",
       " {'_id': ObjectId('62c517f64b3eb4f2ef048203'),\n",
       "  'part_name': 'M15',\n",
       "  'start_time': '2022-07-06 05:04:54',\n",
       "  'end_time': '2022-07-06 05:48:58',\n",
       "  'operator_id': None,\n",
       "  'produced_on': '2022-07-06 05:04:54',\n",
       "  'status': 'completed'},\n",
       " {'_id': ObjectId('62c4349273487250a556e2da'),\n",
       "  'part_name': 'M15',\n",
       "  'start_time': '2022-07-05 12:54:42',\n",
       "  'end_time': '2022-07-06 05:04:45',\n",
       "  'operator_id': None,\n",
       "  'produced_on': '2022-07-05 12:54:42',\n",
       "  'status': 'completed'},\n",
       " {'_id': ObjectId('62c42d006a52728cd393aa6e'),\n",
       "  'part_name': 'M15',\n",
       "  'start_time': '2022-07-05 12:22:24',\n",
       "  'end_time': '2022-07-05 12:27:44',\n",
       "  'operator_id': None,\n",
       "  'produced_on': '2022-07-05 12:22:24',\n",
       "  'status': 'completed'},\n",
       " {'_id': ObjectId('62c42ce96a52728cd393aa6d'),\n",
       "  'part_name': 'M15',\n",
       "  'start_time': '2022-07-05 12:22:01',\n",
       "  'end_time': '2022-07-05 12:22:21',\n",
       "  'operator_id': None,\n",
       "  'produced_on': '2022-07-05 12:22:01',\n",
       "  'status': 'completed'},\n",
       " {'_id': ObjectId('62c42cc66a52728cd393aa6c'),\n",
       "  'part_name': 'M15',\n",
       "  'start_time': '2022-07-05 12:21:26',\n",
       "  'end_time': '2022-07-05 12:21:59',\n",
       "  'operator_id': None,\n",
       "  'produced_on': '2022-07-05 12:21:26',\n",
       "  'status': 'completed'},\n",
       " {'_id': ObjectId('62c42c8e6a52728cd393aa6b'),\n",
       "  'part_name': 'M15',\n",
       "  'start_time': '2022-07-05 12:20:30',\n",
       "  'end_time': '2022-07-05 12:21:23',\n",
       "  'operator_id': None,\n",
       "  'produced_on': '2022-07-05 12:20:30',\n",
       "  'status': 'completed'},\n",
       " {'_id': ObjectId('62c42b106a52728cd393aa6a'),\n",
       "  'part_name': 'M15',\n",
       "  'start_time': '2022-07-05 12:14:08',\n",
       "  'end_time': '2022-07-05 12:20:27',\n",
       "  'operator_id': None,\n",
       "  'produced_on': '2022-07-05 12:14:08',\n",
       "  'status': 'completed'},\n",
       " {'_id': ObjectId('62c42ad96a52728cd393aa69'),\n",
       "  'part_name': 'M15',\n",
       "  'start_time': '2022-07-05 12:13:13',\n",
       "  'end_time': '2022-07-05 12:13:57',\n",
       "  'operator_id': None,\n",
       "  'produced_on': '2022-07-05 12:13:13',\n",
       "  'status': 'completed'},\n",
       " {'_id': ObjectId('62c42a9a6a52728cd393aa68'),\n",
       "  'part_name': 'M15',\n",
       "  'start_time': '2022-07-05 12:12:10',\n",
       "  'end_time': '2022-07-05 12:13:08',\n",
       "  'operator_id': None,\n",
       "  'produced_on': '2022-07-05 12:12:10',\n",
       "  'status': 'completed'},\n",
       " {'_id': ObjectId('62c42a576a52728cd393aa67'),\n",
       "  'part_name': 'M15',\n",
       "  'start_time': '2022-07-05 12:11:03',\n",
       "  'end_time': '2022-07-05 12:12:06',\n",
       "  'operator_id': None,\n",
       "  'produced_on': '2022-07-05 12:11:03',\n",
       "  'status': 'completed'},\n",
       " {'_id': ObjectId('62c42a346a52728cd393aa66'),\n",
       "  'part_name': 'M15',\n",
       "  'start_time': '2022-07-05 12:10:28',\n",
       "  'end_time': '2022-07-05 12:10:59',\n",
       "  'operator_id': None,\n",
       "  'produced_on': '2022-07-05 12:10:28',\n",
       "  'status': 'completed'},\n",
       " {'_id': ObjectId('62c42a156a52728cd393aa65'),\n",
       "  'part_name': 'M15',\n",
       "  'start_time': '2022-07-05 12:09:57',\n",
       "  'end_time': '2022-07-05 12:10:24',\n",
       "  'operator_id': None,\n",
       "  'produced_on': '2022-07-05 12:09:57',\n",
       "  'status': 'completed'},\n",
       " {'_id': ObjectId('62c429686a52728cd393aa62'),\n",
       "  'part_name': 'M15',\n",
       "  'start_time': '2022-07-05 12:07:04',\n",
       "  'end_time': '2022-07-05 12:09:54',\n",
       "  'operator_id': None,\n",
       "  'produced_on': '2022-07-05 12:07:04',\n",
       "  'status': 'completed'},\n",
       " {'_id': ObjectId('62c428f46a52728cd393aa60'),\n",
       "  'part_name': 'M15',\n",
       "  'start_time': '2022-07-05 12:05:08',\n",
       "  'end_time': '2022-07-05 12:07:01',\n",
       "  'operator_id': None,\n",
       "  'produced_on': '2022-07-05 12:05:08',\n",
       "  'status': 'completed'},\n",
       " {'_id': ObjectId('62c428d56a52728cd393aa5e'),\n",
       "  'part_name': 'M15',\n",
       "  'start_time': '2022-07-05 12:04:37',\n",
       "  'end_time': '2022-07-05 12:04:51',\n",
       "  'operator_id': None,\n",
       "  'produced_on': '2022-07-05 12:04:37',\n",
       "  'status': 'completed'},\n",
       " {'_id': ObjectId('62c428aa6a52728cd393aa5c'),\n",
       "  'part_name': 'M15',\n",
       "  'start_time': '2022-07-05 12:03:54',\n",
       "  'end_time': '2022-07-05 12:04:25',\n",
       "  'operator_id': None,\n",
       "  'produced_on': '2022-07-05 12:03:54',\n",
       "  'status': 'completed'},\n",
       " {'_id': ObjectId('62c41f5cc28ba906055a46a5'),\n",
       "  'part_name': 'M15',\n",
       "  'start_time': '2022-07-05 11:24:12',\n",
       "  'end_time': '2022-07-05 11:57:42',\n",
       "  'operator_id': None,\n",
       "  'produced_on': '2022-07-05 11:24:12',\n",
       "  'status': 'completed'}]"
      ]
     },
     "execution_count": 5,
     "metadata": {},
     "output_type": "execute_result"
    }
   ],
   "source": [
    "inspectionid_collection = db['inspection']\n",
    "objs = [i for i in inspectionid_collection.find().sort([( '$natural', -1)])]\n",
    "len(objs)\n",
    "objs\n"
   ]
  },
  {
   "cell_type": "markdown",
   "id": "c8413321",
   "metadata": {},
   "source": [
    "### Creating collection"
   ]
  },
  {
   "cell_type": "code",
   "execution_count": 52,
   "id": "84661f91",
   "metadata": {},
   "outputs": [
    {
     "name": "stdout",
     "output_type": "stream",
     "text": [
      "Collection(Database(MongoClient(host=['127.0.0.1:27017'], document_class=dict, tz_aware=False, connect=True), 'BHATTAM'), '62c554cce045ad6e37474260_log')\n",
      "<pymongo.cursor.Cursor object at 0x00000241123FBF70>\n",
      "Collection(Database(MongoClient(host=['127.0.0.1:27017'], document_class=dict, tz_aware=False, connect=True), 'BHATTAM'), '62c517f64b3eb4f2ef048203_log')\n",
      "<pymongo.cursor.Cursor object at 0x00000241123FBDF0>\n",
      "Collection(Database(MongoClient(host=['127.0.0.1:27017'], document_class=dict, tz_aware=False, connect=True), 'BHATTAM'), '62c4349273487250a556e2da_log')\n",
      "<pymongo.cursor.Cursor object at 0x00000241123CC370>\n",
      "Collection(Database(MongoClient(host=['127.0.0.1:27017'], document_class=dict, tz_aware=False, connect=True), 'BHATTAM'), '62c42d006a52728cd393aa6e_log')\n",
      "<pymongo.cursor.Cursor object at 0x00000241123CCCA0>\n",
      "Collection(Database(MongoClient(host=['127.0.0.1:27017'], document_class=dict, tz_aware=False, connect=True), 'BHATTAM'), '62c42ce96a52728cd393aa6d_log')\n",
      "<pymongo.cursor.Cursor object at 0x00000241123CCEB0>\n",
      "Collection(Database(MongoClient(host=['127.0.0.1:27017'], document_class=dict, tz_aware=False, connect=True), 'BHATTAM'), '62c42cc66a52728cd393aa6c_log')\n",
      "<pymongo.cursor.Cursor object at 0x00000241123CC1C0>\n",
      "Collection(Database(MongoClient(host=['127.0.0.1:27017'], document_class=dict, tz_aware=False, connect=True), 'BHATTAM'), '62c42c8e6a52728cd393aa6b_log')\n",
      "<pymongo.cursor.Cursor object at 0x00000241123CCF70>\n",
      "Collection(Database(MongoClient(host=['127.0.0.1:27017'], document_class=dict, tz_aware=False, connect=True), 'BHATTAM'), '62c42b106a52728cd393aa6a_log')\n",
      "<pymongo.cursor.Cursor object at 0x00000241123CC370>\n",
      "Collection(Database(MongoClient(host=['127.0.0.1:27017'], document_class=dict, tz_aware=False, connect=True), 'BHATTAM'), '62c42ad96a52728cd393aa69_log')\n",
      "<pymongo.cursor.Cursor object at 0x00000241123CCE80>\n",
      "Collection(Database(MongoClient(host=['127.0.0.1:27017'], document_class=dict, tz_aware=False, connect=True), 'BHATTAM'), '62c42a9a6a52728cd393aa68_log')\n",
      "<pymongo.cursor.Cursor object at 0x00000241123CCFA0>\n",
      "Collection(Database(MongoClient(host=['127.0.0.1:27017'], document_class=dict, tz_aware=False, connect=True), 'BHATTAM'), '62c42a576a52728cd393aa67_log')\n",
      "<pymongo.cursor.Cursor object at 0x00000241123CC4C0>\n",
      "Collection(Database(MongoClient(host=['127.0.0.1:27017'], document_class=dict, tz_aware=False, connect=True), 'BHATTAM'), '62c42a346a52728cd393aa66_log')\n",
      "<pymongo.cursor.Cursor object at 0x00000241123CCC70>\n",
      "Collection(Database(MongoClient(host=['127.0.0.1:27017'], document_class=dict, tz_aware=False, connect=True), 'BHATTAM'), '62c42a156a52728cd393aa65_log')\n",
      "<pymongo.cursor.Cursor object at 0x00000241123CCE80>\n",
      "Collection(Database(MongoClient(host=['127.0.0.1:27017'], document_class=dict, tz_aware=False, connect=True), 'BHATTAM'), '62c429686a52728cd393aa62_log')\n",
      "<pymongo.cursor.Cursor object at 0x00000241123CC280>\n",
      "Collection(Database(MongoClient(host=['127.0.0.1:27017'], document_class=dict, tz_aware=False, connect=True), 'BHATTAM'), '62c428f46a52728cd393aa60_log')\n",
      "<pymongo.cursor.Cursor object at 0x00000241123CCF70>\n",
      "Collection(Database(MongoClient(host=['127.0.0.1:27017'], document_class=dict, tz_aware=False, connect=True), 'BHATTAM'), '62c428d56a52728cd393aa5e_log')\n",
      "<pymongo.cursor.Cursor object at 0x00000241123CC370>\n",
      "Collection(Database(MongoClient(host=['127.0.0.1:27017'], document_class=dict, tz_aware=False, connect=True), 'BHATTAM'), '62c428aa6a52728cd393aa5c_log')\n",
      "<pymongo.cursor.Cursor object at 0x00000241123CCD00>\n",
      "Collection(Database(MongoClient(host=['127.0.0.1:27017'], document_class=dict, tz_aware=False, connect=True), 'BHATTAM'), '62c41f5cc28ba906055a46a5_log')\n",
      "<pymongo.cursor.Cursor object at 0x00000241123CCAF0>\n",
      "[]\n"
     ]
    }
   ],
   "source": [
    "status = 'Accepted'\n",
    "p = []\n",
    "for ins in objs:\n",
    "    inspection_id = str(ins['_id'])\n",
    "    # print(inspection_id)\n",
    "    log_col = db[str(inspection_id)+'_log']\n",
    "    print(log_col)\n",
    "    log_col = db.log_col.find()\n",
    "    print(log_col)\n",
    "\n",
    "    # for i in log_col:\n",
    "    #     print(i,'$$$$$$$$$$$')\n",
    "    if status:\n",
    "        # print(log_col,'log col ',len(log_col))\n",
    "        log_col_data = db.log_col.find()\n",
    "        print(log_col_data)\n",
    "        for data in log_col_data:\n",
    "            print(data)\n",
    "\n",
    "        # pr = [i for i in db.log_col.find({'status':status})]\n",
    "        # print(pr,'>>>>>>>>>>>')\n",
    "        # p.extend(pr)\n",
    "\n",
    "\n",
    "\n",
    "print(p)\n"
   ]
  }
 ],
 "metadata": {
  "kernelspec": {
   "display_name": "Python 3.8.0 ('manju')",
   "language": "python",
   "name": "python3"
  },
  "language_info": {
   "codemirror_mode": {
    "name": "ipython",
    "version": 3
   },
   "file_extension": ".py",
   "mimetype": "text/x-python",
   "name": "python",
   "nbconvert_exporter": "python",
   "pygments_lexer": "ipython3",
   "version": "3.8.0"
  },
  "vscode": {
   "interpreter": {
    "hash": "a19a723427b4adc13eb0f067b60829a1f9ce83234f3d553d0d3ef7103c1a12fa"
   }
  }
 },
 "nbformat": 4,
 "nbformat_minor": 5
}
