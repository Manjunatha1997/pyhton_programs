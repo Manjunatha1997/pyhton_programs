{
  "cells": [
    {
      "cell_type": "code",
      "execution_count": null,
      "metadata": {
        "colab": {
          "base_uri": "https://localhost:8080/"
        },
        "id": "EHJcOAwoRrFo",
        "outputId": "f6b63101-f328-4a33-88df-b66dc9be06b8"
      },
      "outputs": [],
      "source": [
        "! pip install fastai --upgrade -q"
      ]
    },
    {
      "cell_type": "code",
      "execution_count": null,
      "metadata": {
        "colab": {
          "base_uri": "https://localhost:8080/"
        },
        "id": "4PkuP1q_hzKk",
        "outputId": "0d52f171-7bcf-4b69-c754-90a5b783a3ea"
      },
      "outputs": [],
      "source": [
        "! pip install Pillow"
      ]
    },
    {
      "cell_type": "code",
      "execution_count": null,
      "metadata": {
        "id": "8mqDEAWnW93n"
      },
      "outputs": [],
      "source": [
        "! pip install packaging\n",
        "! pip install ipywidgets==7.5.1"
      ]
    },
    {
      "cell_type": "code",
      "execution_count": 1,
      "metadata": {
        "id": "C-sQ2tjfRxzt"
      },
      "outputs": [],
      "source": [
        "from fastai.vision.all import *\n",
        "from fastai.metrics import error_rate"
      ]
    },
    {
      "cell_type": "code",
      "execution_count": 2,
      "metadata": {
        "colab": {
          "base_uri": "https://localhost:8080/"
        },
        "id": "JBqAdTtU0N0t",
        "outputId": "fdfefef0-9f20-41f8-813b-f6fc217e0f29"
      },
      "outputs": [
        {
          "name": "stdout",
          "output_type": "stream",
          "text": [
            "Sun Jun 12 18:06:52 2022       \n",
            "+-----------------------------------------------------------------------------+\n",
            "| NVIDIA-SMI 511.79       Driver Version: 511.79       CUDA Version: 11.6     |\n",
            "|-------------------------------+----------------------+----------------------+\n",
            "| GPU  Name            TCC/WDDM | Bus-Id        Disp.A | Volatile Uncorr. ECC |\n",
            "| Fan  Temp  Perf  Pwr:Usage/Cap|         Memory-Usage | GPU-Util  Compute M. |\n",
            "|                               |                      |               MIG M. |\n",
            "|===============================+======================+======================|\n",
            "|   0  NVIDIA GeForce ... WDDM  | 00000000:01:00.0 Off |                  N/A |\n",
            "| N/A   44C    P5    11W /  N/A |      0MiB /  4096MiB |      0%      Default |\n",
            "|                               |                      |                  N/A |\n",
            "+-------------------------------+----------------------+----------------------+\n",
            "                                                                               \n",
            "+-----------------------------------------------------------------------------+\n",
            "| Processes:                                                                  |\n",
            "|  GPU   GI   CI        PID   Type   Process name                  GPU Memory |\n",
            "|        ID   ID                                                   Usage      |\n",
            "|=============================================================================|\n",
            "|  No running processes found                                                 |\n",
            "+-----------------------------------------------------------------------------+\n"
          ]
        }
      ],
      "source": [
        "!nvidia-smi"
      ]
    },
    {
      "cell_type": "code",
      "execution_count": 3,
      "metadata": {
        "id": "aR8bbG7HSTD7"
      },
      "outputs": [],
      "source": [
        "base_dir = r'D:\\Bridgestone\\images\\classfier'\n",
        "path=Path(base_dir)"
      ]
    },
    {
      "cell_type": "code",
      "execution_count": 4,
      "metadata": {
        "id": "tlR-RT16UF4W"
      },
      "outputs": [],
      "source": [
        "fields = DataBlock(blocks=(ImageBlock, CategoryBlock),get_items=get_image_files,get_y=parent_label,splitter=RandomSplitter(valid_pct=0.2, seed=42),item_tfms=RandomResizedCrop(250, min_scale=0.5),batch_tfms=aug_transforms())"
      ]
    },
    {
      "cell_type": "code",
      "execution_count": 5,
      "metadata": {
        "id": "la2Sp7K9UN44"
      },
      "outputs": [
        {
          "name": "stdout",
          "output_type": "stream",
          "text": [
            "Due to IPython and Windows limitation, python multiprocessing isn't available now.\n",
            "So `number_workers` is changed to 0 to avoid getting stuck\n"
          ]
        }
      ],
      "source": [
        "# dls = fields.dataloaders('/content/drive/MyDrive/Palsmo/data/')\n",
        "dls = fields.dataloaders(base_dir)\n"
      ]
    },
    {
      "cell_type": "code",
      "execution_count": 6,
      "metadata": {
        "colab": {
          "base_uri": "https://localhost:8080/"
        },
        "id": "KAqCyIRyagEj",
        "outputId": "c87d3c4a-63a5-4ff7-b229-94bd069aeaf8"
      },
      "outputs": [
        {
          "data": {
            "text/plain": [
              "['train', 'valid']"
            ]
          },
          "execution_count": 6,
          "metadata": {},
          "output_type": "execute_result"
        }
      ],
      "source": [
        "dls.vocab"
      ]
    },
    {
      "cell_type": "code",
      "execution_count": 7,
      "metadata": {
        "id": "i5BTXrbPbC9y"
      },
      "outputs": [
        {
          "ename": "ValueError",
          "evalue": "This DataLoader does not contain any batches",
          "output_type": "error",
          "traceback": [
            "\u001b[1;31m---------------------------------------------------------------------------\u001b[0m",
            "\u001b[1;31mValueError\u001b[0m                                Traceback (most recent call last)",
            "\u001b[1;32m~\\AppData\\Local\\Temp/ipykernel_1432/1518712001.py\u001b[0m in \u001b[0;36m<module>\u001b[1;34m\u001b[0m\n\u001b[1;32m----> 1\u001b[1;33m \u001b[0mdls\u001b[0m\u001b[1;33m.\u001b[0m\u001b[0mtrain\u001b[0m\u001b[1;33m.\u001b[0m\u001b[0mshow_batch\u001b[0m\u001b[1;33m(\u001b[0m\u001b[0mmax_n\u001b[0m\u001b[1;33m=\u001b[0m\u001b[1;36m1\u001b[0m\u001b[1;33m,\u001b[0m \u001b[0mnrows\u001b[0m\u001b[1;33m=\u001b[0m\u001b[1;36m1\u001b[0m\u001b[1;33m)\u001b[0m\u001b[1;33m\u001b[0m\u001b[1;33m\u001b[0m\u001b[0m\n\u001b[0m",
            "\u001b[1;32mc:\\Users\\Manju\\anaconda3\\envs\\manju\\lib\\site-packages\\fastai\\data\\core.py\u001b[0m in \u001b[0;36mshow_batch\u001b[1;34m(self, b, max_n, ctxs, show, unique, **kwargs)\u001b[0m\n\u001b[0;32m    100\u001b[0m             \u001b[0mold_get_idxs\u001b[0m \u001b[1;33m=\u001b[0m \u001b[0mself\u001b[0m\u001b[1;33m.\u001b[0m\u001b[0mget_idxs\u001b[0m\u001b[1;33m\u001b[0m\u001b[1;33m\u001b[0m\u001b[0m\n\u001b[0;32m    101\u001b[0m             \u001b[0mself\u001b[0m\u001b[1;33m.\u001b[0m\u001b[0mget_idxs\u001b[0m \u001b[1;33m=\u001b[0m \u001b[1;32mlambda\u001b[0m\u001b[1;33m:\u001b[0m \u001b[0mInf\u001b[0m\u001b[1;33m.\u001b[0m\u001b[0mzeros\u001b[0m\u001b[1;33m\u001b[0m\u001b[1;33m\u001b[0m\u001b[0m\n\u001b[1;32m--> 102\u001b[1;33m         \u001b[1;32mif\u001b[0m \u001b[0mb\u001b[0m \u001b[1;32mis\u001b[0m \u001b[1;32mNone\u001b[0m\u001b[1;33m:\u001b[0m \u001b[0mb\u001b[0m \u001b[1;33m=\u001b[0m \u001b[0mself\u001b[0m\u001b[1;33m.\u001b[0m\u001b[0mone_batch\u001b[0m\u001b[1;33m(\u001b[0m\u001b[1;33m)\u001b[0m\u001b[1;33m\u001b[0m\u001b[1;33m\u001b[0m\u001b[0m\n\u001b[0m\u001b[0;32m    103\u001b[0m         \u001b[1;32mif\u001b[0m \u001b[1;32mnot\u001b[0m \u001b[0mshow\u001b[0m\u001b[1;33m:\u001b[0m \u001b[1;32mreturn\u001b[0m \u001b[0mself\u001b[0m\u001b[1;33m.\u001b[0m\u001b[0m_pre_show_batch\u001b[0m\u001b[1;33m(\u001b[0m\u001b[0mb\u001b[0m\u001b[1;33m,\u001b[0m \u001b[0mmax_n\u001b[0m\u001b[1;33m=\u001b[0m\u001b[0mmax_n\u001b[0m\u001b[1;33m)\u001b[0m\u001b[1;33m\u001b[0m\u001b[1;33m\u001b[0m\u001b[0m\n\u001b[0;32m    104\u001b[0m         \u001b[0mshow_batch\u001b[0m\u001b[1;33m(\u001b[0m\u001b[1;33m*\u001b[0m\u001b[0mself\u001b[0m\u001b[1;33m.\u001b[0m\u001b[0m_pre_show_batch\u001b[0m\u001b[1;33m(\u001b[0m\u001b[0mb\u001b[0m\u001b[1;33m,\u001b[0m \u001b[0mmax_n\u001b[0m\u001b[1;33m=\u001b[0m\u001b[0mmax_n\u001b[0m\u001b[1;33m)\u001b[0m\u001b[1;33m,\u001b[0m \u001b[0mctxs\u001b[0m\u001b[1;33m=\u001b[0m\u001b[0mctxs\u001b[0m\u001b[1;33m,\u001b[0m \u001b[0mmax_n\u001b[0m\u001b[1;33m=\u001b[0m\u001b[0mmax_n\u001b[0m\u001b[1;33m,\u001b[0m \u001b[1;33m**\u001b[0m\u001b[0mkwargs\u001b[0m\u001b[1;33m)\u001b[0m\u001b[1;33m\u001b[0m\u001b[1;33m\u001b[0m\u001b[0m\n",
            "\u001b[1;32mc:\\Users\\Manju\\anaconda3\\envs\\manju\\lib\\site-packages\\fastai\\data\\load.py\u001b[0m in \u001b[0;36mone_batch\u001b[1;34m(self)\u001b[0m\n\u001b[0;32m    167\u001b[0m     \u001b[1;32mdef\u001b[0m \u001b[0mto\u001b[0m\u001b[1;33m(\u001b[0m\u001b[0mself\u001b[0m\u001b[1;33m,\u001b[0m \u001b[0mdevice\u001b[0m\u001b[1;33m)\u001b[0m\u001b[1;33m:\u001b[0m \u001b[0mself\u001b[0m\u001b[1;33m.\u001b[0m\u001b[0mdevice\u001b[0m \u001b[1;33m=\u001b[0m \u001b[0mdevice\u001b[0m\u001b[1;33m\u001b[0m\u001b[1;33m\u001b[0m\u001b[0m\n\u001b[0;32m    168\u001b[0m     \u001b[1;32mdef\u001b[0m \u001b[0mone_batch\u001b[0m\u001b[1;33m(\u001b[0m\u001b[0mself\u001b[0m\u001b[1;33m)\u001b[0m\u001b[1;33m:\u001b[0m\u001b[1;33m\u001b[0m\u001b[1;33m\u001b[0m\u001b[0m\n\u001b[1;32m--> 169\u001b[1;33m         \u001b[1;32mif\u001b[0m \u001b[0mself\u001b[0m\u001b[1;33m.\u001b[0m\u001b[0mn\u001b[0m \u001b[1;32mis\u001b[0m \u001b[1;32mnot\u001b[0m \u001b[1;32mNone\u001b[0m \u001b[1;32mand\u001b[0m \u001b[0mlen\u001b[0m\u001b[1;33m(\u001b[0m\u001b[0mself\u001b[0m\u001b[1;33m)\u001b[0m\u001b[1;33m==\u001b[0m\u001b[1;36m0\u001b[0m\u001b[1;33m:\u001b[0m \u001b[1;32mraise\u001b[0m \u001b[0mValueError\u001b[0m\u001b[1;33m(\u001b[0m\u001b[1;34mf'This DataLoader does not contain any batches'\u001b[0m\u001b[1;33m)\u001b[0m\u001b[1;33m\u001b[0m\u001b[1;33m\u001b[0m\u001b[0m\n\u001b[0m\u001b[0;32m    170\u001b[0m         \u001b[1;32mwith\u001b[0m \u001b[0mself\u001b[0m\u001b[1;33m.\u001b[0m\u001b[0mfake_l\u001b[0m\u001b[1;33m.\u001b[0m\u001b[0mno_multiproc\u001b[0m\u001b[1;33m(\u001b[0m\u001b[1;33m)\u001b[0m\u001b[1;33m:\u001b[0m \u001b[0mres\u001b[0m \u001b[1;33m=\u001b[0m \u001b[0mfirst\u001b[0m\u001b[1;33m(\u001b[0m\u001b[0mself\u001b[0m\u001b[1;33m)\u001b[0m\u001b[1;33m\u001b[0m\u001b[1;33m\u001b[0m\u001b[0m\n\u001b[0;32m    171\u001b[0m         \u001b[1;32mif\u001b[0m \u001b[0mhasattr\u001b[0m\u001b[1;33m(\u001b[0m\u001b[0mself\u001b[0m\u001b[1;33m,\u001b[0m \u001b[1;34m'it'\u001b[0m\u001b[1;33m)\u001b[0m\u001b[1;33m:\u001b[0m \u001b[0mdelattr\u001b[0m\u001b[1;33m(\u001b[0m\u001b[0mself\u001b[0m\u001b[1;33m,\u001b[0m \u001b[1;34m'it'\u001b[0m\u001b[1;33m)\u001b[0m\u001b[1;33m\u001b[0m\u001b[1;33m\u001b[0m\u001b[0m\n",
            "\u001b[1;31mValueError\u001b[0m: This DataLoader does not contain any batches"
          ]
        }
      ],
      "source": [
        "\n",
        "\n",
        "dls.train.show_batch(max_n=1, nrows=1)"
      ]
    },
    {
      "cell_type": "code",
      "execution_count": 8,
      "metadata": {
        "colab": {
          "base_uri": "https://localhost:8080/",
          "height": 214
        },
        "id": "EY3oXXyGbL8U",
        "outputId": "3bbf4ed0-889b-4e7c-938e-10092328b43f"
      },
      "outputs": [
        {
          "name": "stderr",
          "output_type": "stream",
          "text": [
            "c:\\Users\\Manju\\anaconda3\\envs\\manju\\lib\\site-packages\\fastai\\vision\\learner.py:265: UserWarning: `cnn_learner` has been renamed to `vision_learner` -- please update your code\n",
            "  warn(\"`cnn_learner` has been renamed to `vision_learner` -- please update your code\")\n"
          ]
        },
        {
          "data": {
            "text/html": [
              "<table border=\"1\" class=\"dataframe\">\n",
              "  <thead>\n",
              "    <tr style=\"text-align: left;\">\n",
              "      <th>epoch</th>\n",
              "      <th>train_loss</th>\n",
              "      <th>valid_loss</th>\n",
              "      <th>accuracy</th>\n",
              "      <th>error_rate</th>\n",
              "      <th>f1_score</th>\n",
              "      <th>precision_score</th>\n",
              "      <th>recall_score</th>\n",
              "      <th>time</th>\n",
              "    </tr>\n",
              "  </thead>\n",
              "  <tbody>\n",
              "    <tr>\n",
              "      <td>0</td>\n",
              "      <td>nan</td>\n",
              "      <td>1.971235</td>\n",
              "      <td>0.125000</td>\n",
              "      <td>0.875000</td>\n",
              "      <td>0.222222</td>\n",
              "      <td>0.125000</td>\n",
              "      <td>1.000000</td>\n",
              "      <td>00:09</td>\n",
              "    </tr>\n",
              "  </tbody>\n",
              "</table>"
            ],
            "text/plain": [
              "<IPython.core.display.HTML object>"
            ]
          },
          "metadata": {},
          "output_type": "display_data"
        },
        {
          "name": "stderr",
          "output_type": "stream",
          "text": [
            "c:\\Users\\Manju\\anaconda3\\envs\\manju\\lib\\site-packages\\fastprogress\\fastprogress.py:74: UserWarning: Your generator is empty.\n",
            "  warn(\"Your generator is empty.\")\n"
          ]
        },
        {
          "data": {
            "text/html": [
              "<table border=\"1\" class=\"dataframe\">\n",
              "  <thead>\n",
              "    <tr style=\"text-align: left;\">\n",
              "      <th>epoch</th>\n",
              "      <th>train_loss</th>\n",
              "      <th>valid_loss</th>\n",
              "      <th>accuracy</th>\n",
              "      <th>error_rate</th>\n",
              "      <th>f1_score</th>\n",
              "      <th>precision_score</th>\n",
              "      <th>recall_score</th>\n",
              "      <th>time</th>\n",
              "    </tr>\n",
              "  </thead>\n",
              "  <tbody>\n",
              "    <tr>\n",
              "      <td>0</td>\n",
              "      <td>nan</td>\n",
              "      <td>1.971235</td>\n",
              "      <td>0.125000</td>\n",
              "      <td>0.875000</td>\n",
              "      <td>0.222222</td>\n",
              "      <td>0.125000</td>\n",
              "      <td>1.000000</td>\n",
              "      <td>00:00</td>\n",
              "    </tr>\n",
              "    <tr>\n",
              "      <td>1</td>\n",
              "      <td>nan</td>\n",
              "      <td>1.971235</td>\n",
              "      <td>0.125000</td>\n",
              "      <td>0.875000</td>\n",
              "      <td>0.222222</td>\n",
              "      <td>0.125000</td>\n",
              "      <td>1.000000</td>\n",
              "      <td>00:00</td>\n",
              "    </tr>\n",
              "    <tr>\n",
              "      <td>2</td>\n",
              "      <td>nan</td>\n",
              "      <td>1.971235</td>\n",
              "      <td>0.125000</td>\n",
              "      <td>0.875000</td>\n",
              "      <td>0.222222</td>\n",
              "      <td>0.125000</td>\n",
              "      <td>1.000000</td>\n",
              "      <td>00:00</td>\n",
              "    </tr>\n",
              "    <tr>\n",
              "      <td>3</td>\n",
              "      <td>nan</td>\n",
              "      <td>1.971235</td>\n",
              "      <td>0.125000</td>\n",
              "      <td>0.875000</td>\n",
              "      <td>0.222222</td>\n",
              "      <td>0.125000</td>\n",
              "      <td>1.000000</td>\n",
              "      <td>00:00</td>\n",
              "    </tr>\n",
              "    <tr>\n",
              "      <td>4</td>\n",
              "      <td>nan</td>\n",
              "      <td>1.971235</td>\n",
              "      <td>0.125000</td>\n",
              "      <td>0.875000</td>\n",
              "      <td>0.222222</td>\n",
              "      <td>0.125000</td>\n",
              "      <td>1.000000</td>\n",
              "      <td>00:00</td>\n",
              "    </tr>\n",
              "  </tbody>\n",
              "</table>"
            ],
            "text/plain": [
              "<IPython.core.display.HTML object>"
            ]
          },
          "metadata": {},
          "output_type": "display_data"
        }
      ],
      "source": [
        "f = F1Score()\n",
        "learn = cnn_learner(dls, resnet50, metrics=[accuracy, error_rate,f, Precision(average='binary'),\n",
        "               Recall(average='binary')],opt_func=RAdam)\n",
        "learn.fine_tune(5)"
      ]
    },
    {
      "cell_type": "code",
      "execution_count": 9,
      "metadata": {
        "colab": {
          "base_uri": "https://localhost:8080/",
          "height": 197
        },
        "id": "gbooIadPJCuR",
        "outputId": "ac374e7e-e423-4d8e-de07-252710163b9c"
      },
      "outputs": [
        {
          "data": {
            "text/html": [
              "<table border=\"1\" class=\"dataframe\">\n",
              "  <thead>\n",
              "    <tr style=\"text-align: left;\">\n",
              "      <th>epoch</th>\n",
              "      <th>train_loss</th>\n",
              "      <th>valid_loss</th>\n",
              "      <th>accuracy</th>\n",
              "      <th>error_rate</th>\n",
              "      <th>time</th>\n",
              "    </tr>\n",
              "  </thead>\n",
              "  <tbody>\n",
              "    <tr>\n",
              "      <td>0</td>\n",
              "      <td>nan</td>\n",
              "      <td>0.347752</td>\n",
              "      <td>0.875000</td>\n",
              "      <td>0.125000</td>\n",
              "      <td>00:00</td>\n",
              "    </tr>\n",
              "  </tbody>\n",
              "</table>"
            ],
            "text/plain": [
              "<IPython.core.display.HTML object>"
            ]
          },
          "metadata": {},
          "output_type": "display_data"
        },
        {
          "data": {
            "text/html": [
              "<table border=\"1\" class=\"dataframe\">\n",
              "  <thead>\n",
              "    <tr style=\"text-align: left;\">\n",
              "      <th>epoch</th>\n",
              "      <th>train_loss</th>\n",
              "      <th>valid_loss</th>\n",
              "      <th>accuracy</th>\n",
              "      <th>error_rate</th>\n",
              "      <th>time</th>\n",
              "    </tr>\n",
              "  </thead>\n",
              "  <tbody>\n",
              "    <tr>\n",
              "      <td>0</td>\n",
              "      <td>nan</td>\n",
              "      <td>0.347752</td>\n",
              "      <td>0.875000</td>\n",
              "      <td>0.125000</td>\n",
              "      <td>00:00</td>\n",
              "    </tr>\n",
              "    <tr>\n",
              "      <td>1</td>\n",
              "      <td>nan</td>\n",
              "      <td>0.347752</td>\n",
              "      <td>0.875000</td>\n",
              "      <td>0.125000</td>\n",
              "      <td>00:00</td>\n",
              "    </tr>\n",
              "    <tr>\n",
              "      <td>2</td>\n",
              "      <td>nan</td>\n",
              "      <td>0.347752</td>\n",
              "      <td>0.875000</td>\n",
              "      <td>0.125000</td>\n",
              "      <td>00:00</td>\n",
              "    </tr>\n",
              "    <tr>\n",
              "      <td>3</td>\n",
              "      <td>nan</td>\n",
              "      <td>0.347752</td>\n",
              "      <td>0.875000</td>\n",
              "      <td>0.125000</td>\n",
              "      <td>00:00</td>\n",
              "    </tr>\n",
              "    <tr>\n",
              "      <td>4</td>\n",
              "      <td>nan</td>\n",
              "      <td>0.347752</td>\n",
              "      <td>0.875000</td>\n",
              "      <td>0.125000</td>\n",
              "      <td>00:00</td>\n",
              "    </tr>\n",
              "  </tbody>\n",
              "</table>"
            ],
            "text/plain": [
              "<IPython.core.display.HTML object>"
            ]
          },
          "metadata": {},
          "output_type": "display_data"
        }
      ],
      "source": [
        "f = F1Score()\n",
        "learn = cnn_learner(dls, models.resnet50, metrics=[accuracy,error_rate],opt_func=RAdam)\n",
        "learn.fine_tune(5)"
      ]
    },
    {
      "cell_type": "code",
      "execution_count": null,
      "metadata": {
        "colab": {
          "base_uri": "https://localhost:8080/",
          "height": 429
        },
        "id": "DURuYNmjbbEc",
        "outputId": "d5aca0f9-269c-4fa3-b6ed-65cbe973d089"
      },
      "outputs": [],
      "source": [
        "lr_min,lr_steep=learn.lr_find() "
      ]
    },
    {
      "cell_type": "code",
      "execution_count": null,
      "metadata": {
        "colab": {
          "base_uri": "https://localhost:8080/"
        },
        "id": "3MLTZorJwMp6",
        "outputId": "abed65ed-088a-4ee9-c0ff-af62c4ddcc77"
      },
      "outputs": [],
      "source": [
        "doc(learn)"
      ]
    },
    {
      "cell_type": "code",
      "execution_count": null,
      "metadata": {
        "colab": {
          "base_uri": "https://localhost:8080/",
          "height": 163
        },
        "id": "w3Hgq5rOf5Ql",
        "outputId": "2079479f-35e9-4537-bf9e-585597895893"
      },
      "outputs": [],
      "source": [
        "lr_min,lr_steep"
      ]
    },
    {
      "cell_type": "code",
      "execution_count": null,
      "metadata": {
        "id": "-ZJ5n5gLnMYp"
      },
      "outputs": [],
      "source": []
    },
    {
      "cell_type": "code",
      "execution_count": 10,
      "metadata": {
        "colab": {
          "base_uri": "https://localhost:8080/",
          "height": 359
        },
        "id": "7QvbkS8rbnV7",
        "outputId": "bff8d430-ea89-4e17-ed24-523a34375691"
      },
      "outputs": [
        {
          "data": {
            "text/html": [
              "<table border=\"1\" class=\"dataframe\">\n",
              "  <thead>\n",
              "    <tr style=\"text-align: left;\">\n",
              "      <th>epoch</th>\n",
              "      <th>train_loss</th>\n",
              "      <th>valid_loss</th>\n",
              "      <th>accuracy</th>\n",
              "      <th>error_rate</th>\n",
              "      <th>time</th>\n",
              "    </tr>\n",
              "  </thead>\n",
              "  <tbody>\n",
              "    <tr>\n",
              "      <td>0</td>\n",
              "      <td>nan</td>\n",
              "      <td>0.347752</td>\n",
              "      <td>0.875000</td>\n",
              "      <td>0.125000</td>\n",
              "      <td>00:00</td>\n",
              "    </tr>\n",
              "    <tr>\n",
              "      <td>1</td>\n",
              "      <td>nan</td>\n",
              "      <td>0.347752</td>\n",
              "      <td>0.875000</td>\n",
              "      <td>0.125000</td>\n",
              "      <td>00:00</td>\n",
              "    </tr>\n",
              "    <tr>\n",
              "      <td>2</td>\n",
              "      <td>nan</td>\n",
              "      <td>0.347752</td>\n",
              "      <td>0.875000</td>\n",
              "      <td>0.125000</td>\n",
              "      <td>00:00</td>\n",
              "    </tr>\n",
              "    <tr>\n",
              "      <td>3</td>\n",
              "      <td>nan</td>\n",
              "      <td>0.347752</td>\n",
              "      <td>0.875000</td>\n",
              "      <td>0.125000</td>\n",
              "      <td>00:00</td>\n",
              "    </tr>\n",
              "    <tr>\n",
              "      <td>4</td>\n",
              "      <td>nan</td>\n",
              "      <td>0.347752</td>\n",
              "      <td>0.875000</td>\n",
              "      <td>0.125000</td>\n",
              "      <td>00:00</td>\n",
              "    </tr>\n",
              "    <tr>\n",
              "      <td>5</td>\n",
              "      <td>nan</td>\n",
              "      <td>0.347752</td>\n",
              "      <td>0.875000</td>\n",
              "      <td>0.125000</td>\n",
              "      <td>00:00</td>\n",
              "    </tr>\n",
              "    <tr>\n",
              "      <td>6</td>\n",
              "      <td>nan</td>\n",
              "      <td>0.347752</td>\n",
              "      <td>0.875000</td>\n",
              "      <td>0.125000</td>\n",
              "      <td>00:00</td>\n",
              "    </tr>\n",
              "    <tr>\n",
              "      <td>7</td>\n",
              "      <td>nan</td>\n",
              "      <td>0.347752</td>\n",
              "      <td>0.875000</td>\n",
              "      <td>0.125000</td>\n",
              "      <td>00:00</td>\n",
              "    </tr>\n",
              "    <tr>\n",
              "      <td>8</td>\n",
              "      <td>nan</td>\n",
              "      <td>0.347752</td>\n",
              "      <td>0.875000</td>\n",
              "      <td>0.125000</td>\n",
              "      <td>00:00</td>\n",
              "    </tr>\n",
              "    <tr>\n",
              "      <td>9</td>\n",
              "      <td>nan</td>\n",
              "      <td>0.347752</td>\n",
              "      <td>0.875000</td>\n",
              "      <td>0.125000</td>\n",
              "      <td>00:00</td>\n",
              "    </tr>\n",
              "  </tbody>\n",
              "</table>"
            ],
            "text/plain": [
              "<IPython.core.display.HTML object>"
            ]
          },
          "metadata": {},
          "output_type": "display_data"
        }
      ],
      "source": [
        "learn.fit_one_cycle(10,0.0009)"
      ]
    },
    {
      "cell_type": "code",
      "execution_count": null,
      "metadata": {
        "colab": {
          "base_uri": "https://localhost:8080/",
          "height": 1000
        },
        "id": "0dpgDJdxww7q",
        "outputId": "6d5ec9ea-2d4b-4d74-b4fd-3412b9eaf383"
      },
      "outputs": [],
      "source": [
        "learn.summary()"
      ]
    },
    {
      "cell_type": "code",
      "execution_count": null,
      "metadata": {
        "colab": {
          "base_uri": "https://localhost:8080/",
          "height": 514
        },
        "id": "DFolWXoIfGfe",
        "outputId": "78c2eca9-00c1-481d-b97f-7d191b97b0bd"
      },
      "outputs": [],
      "source": [
        "learn.unfreeze()\n",
        "learn.fit_one_cycle(15,lr_max=slice(0.003,0.0009))"
      ]
    },
    {
      "cell_type": "code",
      "execution_count": null,
      "metadata": {
        "id": "r42DY9I9wuo_"
      },
      "outputs": [],
      "source": []
    },
    {
      "cell_type": "code",
      "execution_count": null,
      "metadata": {
        "colab": {
          "base_uri": "https://localhost:8080/",
          "height": 163
        },
        "id": "4OV3rAaWmnpi",
        "outputId": "44a1ac4f-cc4d-4c20-942d-e82d8cbf62e7"
      },
      "outputs": [],
      "source": [
        "learn.show_results()"
      ]
    },
    {
      "cell_type": "code",
      "execution_count": null,
      "metadata": {
        "colab": {
          "base_uri": "https://localhost:8080/",
          "height": 180
        },
        "id": "RyBgWvmGixOz",
        "outputId": "18a784eb-1144-4694-9ffb-d1bc159d2ce4"
      },
      "outputs": [],
      "source": [
        "inter=ClassificationInterpretation.from_learner(learn)\n",
        "inter.plot_confusion_matrix()"
      ]
    },
    {
      "cell_type": "code",
      "execution_count": null,
      "metadata": {
        "colab": {
          "base_uri": "https://localhost:8080/"
        },
        "id": "HdfZmQb_cJcp",
        "outputId": "d9eead9f-e87e-478a-c13b-7deb63c383bc"
      },
      "outputs": [],
      "source": [
        "inter.most_confused(min_val=1)"
      ]
    },
    {
      "cell_type": "code",
      "execution_count": null,
      "metadata": {
        "id": "h9AfDUXtc2_o"
      },
      "outputs": [],
      "source": [
        "learn.save('indo_1')\n",
        "learn.export('indo_1')"
      ]
    },
    {
      "cell_type": "code",
      "execution_count": null,
      "metadata": {
        "colab": {
          "base_uri": "https://localhost:8080/",
          "height": 372
        },
        "id": "QR7WJI0dmhuA",
        "outputId": "b5be7de5-f0c0-4e9c-f53b-8fa8cd38b7e7"
      },
      "outputs": [],
      "source": [
        "learn.show_results()"
      ]
    },
    {
      "cell_type": "code",
      "execution_count": null,
      "metadata": {
        "colab": {
          "base_uri": "https://localhost:8080/"
        },
        "id": "XAoOx8wFlKWE",
        "outputId": "45a07910-ea5b-4c3d-e2e4-d1e0b18513e0"
      },
      "outputs": [],
      "source": [
        "len(learn.opt.param_groups)"
      ]
    },
    {
      "cell_type": "code",
      "execution_count": null,
      "metadata": {
        "colab": {
          "base_uri": "https://localhost:8080/",
          "height": 1000
        },
        "id": "XNKPW88YncsO",
        "outputId": "178052e5-39cb-424d-c3c6-c4692e48291a"
      },
      "outputs": [],
      "source": [
        "learn.summary()"
      ]
    },
    {
      "cell_type": "code",
      "execution_count": null,
      "metadata": {
        "id": "lyCsRL9Xn-jG"
      },
      "outputs": [],
      "source": [
        "learn.freeze()"
      ]
    },
    {
      "cell_type": "code",
      "execution_count": null,
      "metadata": {
        "colab": {
          "base_uri": "https://localhost:8080/",
          "height": 1000
        },
        "id": "K-_pBfwColEn",
        "outputId": "d6753785-78ce-4256-fd38-5eb802b9d258"
      },
      "outputs": [],
      "source": [
        "learn.summary()"
      ]
    },
    {
      "cell_type": "code",
      "execution_count": null,
      "metadata": {
        "colab": {
          "base_uri": "https://localhost:8080/",
          "height": 770
        },
        "id": "hTiaVgtfooQm",
        "outputId": "1096aa41-fd2e-4656-ea12-e5952b0df38e"
      },
      "outputs": [],
      "source": [
        "inter.plot_top_losses(20,nrows=4)"
      ]
    },
    {
      "cell_type": "code",
      "execution_count": null,
      "metadata": {
        "colab": {
          "base_uri": "https://localhost:8080/"
        },
        "id": "rQzJi8vSgP96",
        "outputId": "8a7b99a6-a077-4eb4-a072-218ce0fd287e"
      },
      "outputs": [],
      "source": [
        "(learn.metrics)"
      ]
    },
    {
      "cell_type": "code",
      "execution_count": null,
      "metadata": {
        "id": "8JwlMl8mjtf7"
      },
      "outputs": [],
      "source": [
        "learn.export(\"/content/gdrive/MyDrive/classifier/weight\")"
      ]
    },
    {
      "cell_type": "code",
      "execution_count": null,
      "metadata": {
        "id": "s5WS0os3uRa8"
      },
      "outputs": [],
      "source": [
        "learn.export(fname='export_27.pkl',pickle_module=pickle,pickle_protocol=2)"
      ]
    },
    {
      "cell_type": "markdown",
      "metadata": {
        "id": "iryVoW02JcKM"
      },
      "source": [
        "# New Section"
      ]
    },
    {
      "cell_type": "code",
      "execution_count": null,
      "metadata": {
        "colab": {
          "base_uri": "https://localhost:8080/",
          "height": 34
        },
        "id": "c18ccnMF0MVl",
        "outputId": "9e62c340-d0d1-4abe-8d08-080485e72136"
      },
      "outputs": [],
      "source": [
        "# learn_inf = load_learner('/content/export_27.pkl')\n",
        "learn.predict(\"/content/gdrive/MyDrive/test_indo/batch_3_13.jpg\")"
      ]
    },
    {
      "cell_type": "code",
      "execution_count": null,
      "metadata": {
        "colab": {
          "base_uri": "https://localhost:8080/"
        },
        "id": "CEkT-T6T-_HT",
        "outputId": "4d6933a1-110e-4c71-a2f0-a95149653dc3"
      },
      "outputs": [],
      "source": [
        "!pip list"
      ]
    },
    {
      "cell_type": "code",
      "execution_count": null,
      "metadata": {
        "id": "FB1X8SDr-TUz"
      },
      "outputs": [],
      "source": []
    }
  ],
  "metadata": {
    "accelerator": "GPU",
    "colab": {
      "collapsed_sections": [],
      "name": "classification_FastAI.ipynb",
      "provenance": []
    },
    "kernelspec": {
      "display_name": "Python 3.8.0 ('manju')",
      "language": "python",
      "name": "python3"
    },
    "language_info": {
      "codemirror_mode": {
        "name": "ipython",
        "version": 3
      },
      "file_extension": ".py",
      "mimetype": "text/x-python",
      "name": "python",
      "nbconvert_exporter": "python",
      "pygments_lexer": "ipython3",
      "version": "3.8.0"
    },
    "vscode": {
      "interpreter": {
        "hash": "a19a723427b4adc13eb0f067b60829a1f9ce83234f3d553d0d3ef7103c1a12fa"
      }
    }
  },
  "nbformat": 4,
  "nbformat_minor": 0
}
