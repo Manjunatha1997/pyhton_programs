{
 "cells": [
  {
   "cell_type": "code",
   "execution_count": 1,
   "id": "1b7ba78d",
   "metadata": {},
   "outputs": [],
   "source": [
    "import pandas as pd "
   ]
  },
  {
   "cell_type": "code",
   "execution_count": 8,
   "id": "0296bafd",
   "metadata": {},
   "outputs": [],
   "source": [
    "data =pd.read_csv(r\"D:\\python_programs\\streamlit_UI\\reports\\2022-05-18.csv\")"
   ]
  },
  {
   "cell_type": "code",
   "execution_count": 9,
   "id": "25a65c1a",
   "metadata": {},
   "outputs": [
    {
     "data": {
      "text/html": [
       "<div>\n",
       "<style scoped>\n",
       "    .dataframe tbody tr th:only-of-type {\n",
       "        vertical-align: middle;\n",
       "    }\n",
       "\n",
       "    .dataframe tbody tr th {\n",
       "        vertical-align: top;\n",
       "    }\n",
       "\n",
       "    .dataframe thead th {\n",
       "        text-align: right;\n",
       "    }\n",
       "</style>\n",
       "<table border=\"1\" class=\"dataframe\">\n",
       "  <thead>\n",
       "    <tr style=\"text-align: right;\">\n",
       "      <th></th>\n",
       "      <th>inference_images</th>\n",
       "      <th>inspection_time</th>\n",
       "      <th>status</th>\n",
       "      <th>reason</th>\n",
       "    </tr>\n",
       "  </thead>\n",
       "  <tbody>\n",
       "    <tr>\n",
       "      <th>0</th>\n",
       "      <td>['localhost:3306/6284dd388ef74bc04e48c9ff.jpg']</td>\n",
       "      <td>2022-05-18 17:19:12.660533</td>\n",
       "      <td>Rejected</td>\n",
       "      <td>[]</td>\n",
       "    </tr>\n",
       "    <tr>\n",
       "      <th>1</th>\n",
       "      <td>['localhost:3306/6284dd388ef74bc04e48ca00.jpg']</td>\n",
       "      <td>2022-05-18 17:19:12.689527</td>\n",
       "      <td>Accepted</td>\n",
       "      <td>[]</td>\n",
       "    </tr>\n",
       "    <tr>\n",
       "      <th>2</th>\n",
       "      <td>['localhost:3306/6284dd388ef74bc04e48ca01.jpg']</td>\n",
       "      <td>2022-05-18 17:19:12.706517</td>\n",
       "      <td>Accepted</td>\n",
       "      <td>[]</td>\n",
       "    </tr>\n",
       "    <tr>\n",
       "      <th>3</th>\n",
       "      <td>['localhost:3306/6284dd388ef74bc04e48ca02.jpg']</td>\n",
       "      <td>2022-05-18 17:19:12.721517</td>\n",
       "      <td>Accepted</td>\n",
       "      <td>[]</td>\n",
       "    </tr>\n",
       "    <tr>\n",
       "      <th>4</th>\n",
       "      <td>['localhost:3306/6284dd388ef74bc04e48ca03.jpg']</td>\n",
       "      <td>2022-05-18 17:19:12.735517</td>\n",
       "      <td>Accepted</td>\n",
       "      <td>[]</td>\n",
       "    </tr>\n",
       "    <tr>\n",
       "      <th>...</th>\n",
       "      <td>...</td>\n",
       "      <td>...</td>\n",
       "      <td>...</td>\n",
       "      <td>...</td>\n",
       "    </tr>\n",
       "    <tr>\n",
       "      <th>4268</th>\n",
       "      <td>['localhost:3306/6284de7a8ef74bc04e48daab.jpg']</td>\n",
       "      <td>2022-05-18 17:24:34.570621</td>\n",
       "      <td>Accepted</td>\n",
       "      <td>[]</td>\n",
       "    </tr>\n",
       "    <tr>\n",
       "      <th>4269</th>\n",
       "      <td>['localhost:3306/6284de7a8ef74bc04e48daac.jpg']</td>\n",
       "      <td>2022-05-18 17:24:34.666621</td>\n",
       "      <td>Accepted</td>\n",
       "      <td>[]</td>\n",
       "    </tr>\n",
       "    <tr>\n",
       "      <th>4270</th>\n",
       "      <td>['localhost:3306/6284de7a8ef74bc04e48daad.jpg']</td>\n",
       "      <td>2022-05-18 17:24:34.762620</td>\n",
       "      <td>Accepted</td>\n",
       "      <td>[]</td>\n",
       "    </tr>\n",
       "    <tr>\n",
       "      <th>4271</th>\n",
       "      <td>['localhost:3306/6284de7a8ef74bc04e48daae.jpg']</td>\n",
       "      <td>2022-05-18 17:24:34.857620</td>\n",
       "      <td>Accepted</td>\n",
       "      <td>[]</td>\n",
       "    </tr>\n",
       "    <tr>\n",
       "      <th>4272</th>\n",
       "      <td>['localhost:3306/6284de7b8ef74bc04e48daaf.jpg']</td>\n",
       "      <td>2022-05-18 17:24:34.951620</td>\n",
       "      <td>Accepted</td>\n",
       "      <td>[]</td>\n",
       "    </tr>\n",
       "  </tbody>\n",
       "</table>\n",
       "<p>4273 rows × 4 columns</p>\n",
       "</div>"
      ],
      "text/plain": [
       "                                     inference_images  \\\n",
       "0     ['localhost:3306/6284dd388ef74bc04e48c9ff.jpg']   \n",
       "1     ['localhost:3306/6284dd388ef74bc04e48ca00.jpg']   \n",
       "2     ['localhost:3306/6284dd388ef74bc04e48ca01.jpg']   \n",
       "3     ['localhost:3306/6284dd388ef74bc04e48ca02.jpg']   \n",
       "4     ['localhost:3306/6284dd388ef74bc04e48ca03.jpg']   \n",
       "...                                               ...   \n",
       "4268  ['localhost:3306/6284de7a8ef74bc04e48daab.jpg']   \n",
       "4269  ['localhost:3306/6284de7a8ef74bc04e48daac.jpg']   \n",
       "4270  ['localhost:3306/6284de7a8ef74bc04e48daad.jpg']   \n",
       "4271  ['localhost:3306/6284de7a8ef74bc04e48daae.jpg']   \n",
       "4272  ['localhost:3306/6284de7b8ef74bc04e48daaf.jpg']   \n",
       "\n",
       "                 inspection_time    status reason  \n",
       "0     2022-05-18 17:19:12.660533  Rejected     []  \n",
       "1     2022-05-18 17:19:12.689527  Accepted     []  \n",
       "2     2022-05-18 17:19:12.706517  Accepted     []  \n",
       "3     2022-05-18 17:19:12.721517  Accepted     []  \n",
       "4     2022-05-18 17:19:12.735517  Accepted     []  \n",
       "...                          ...       ...    ...  \n",
       "4268  2022-05-18 17:24:34.570621  Accepted     []  \n",
       "4269  2022-05-18 17:24:34.666621  Accepted     []  \n",
       "4270  2022-05-18 17:24:34.762620  Accepted     []  \n",
       "4271  2022-05-18 17:24:34.857620  Accepted     []  \n",
       "4272  2022-05-18 17:24:34.951620  Accepted     []  \n",
       "\n",
       "[4273 rows x 4 columns]"
      ]
     },
     "execution_count": 9,
     "metadata": {},
     "output_type": "execute_result"
    }
   ],
   "source": [
    "data"
   ]
  },
  {
   "cell_type": "code",
   "execution_count": 13,
   "id": "c1cb49fe",
   "metadata": {},
   "outputs": [
    {
     "data": {
      "text/plain": [
       "4273"
      ]
     },
     "execution_count": 13,
     "metadata": {},
     "output_type": "execute_result"
    }
   ],
   "source": [
    "len(data)"
   ]
  },
  {
   "cell_type": "code",
   "execution_count": 6,
   "id": "a325a1ae",
   "metadata": {},
   "outputs": [
    {
     "data": {
      "text/plain": [
       "0       ['localhost:3306/6284dd388ef74bc04e48c9ff.jpg']\n",
       "1       ['localhost:3306/6284dd388ef74bc04e48ca00.jpg']\n",
       "2       ['localhost:3306/6284dd388ef74bc04e48ca01.jpg']\n",
       "3       ['localhost:3306/6284dd388ef74bc04e48ca02.jpg']\n",
       "4       ['localhost:3306/6284dd388ef74bc04e48ca03.jpg']\n",
       "                             ...                       \n",
       "4268    ['localhost:3306/6284de7a8ef74bc04e48daab.jpg']\n",
       "4269    ['localhost:3306/6284de7a8ef74bc04e48daac.jpg']\n",
       "4270    ['localhost:3306/6284de7a8ef74bc04e48daad.jpg']\n",
       "4271    ['localhost:3306/6284de7a8ef74bc04e48daae.jpg']\n",
       "4272    ['localhost:3306/6284de7b8ef74bc04e48daaf.jpg']\n",
       "Name: inference_images, Length: 4273, dtype: object"
      ]
     },
     "execution_count": 6,
     "metadata": {},
     "output_type": "execute_result"
    }
   ],
   "source": [
    "data['inference_images']"
   ]
  },
  {
   "cell_type": "code",
   "execution_count": null,
   "id": "58ed58c0",
   "metadata": {},
   "outputs": [],
   "source": []
  }
 ],
 "metadata": {
  "kernelspec": {
   "display_name": "Python 3 (ipykernel)",
   "language": "python",
   "name": "python3"
  },
  "language_info": {
   "codemirror_mode": {
    "name": "ipython",
    "version": 3
   },
   "file_extension": ".py",
   "mimetype": "text/x-python",
   "name": "python",
   "nbconvert_exporter": "python",
   "pygments_lexer": "ipython3",
   "version": "3.8.0"
  }
 },
 "nbformat": 4,
 "nbformat_minor": 5
}
